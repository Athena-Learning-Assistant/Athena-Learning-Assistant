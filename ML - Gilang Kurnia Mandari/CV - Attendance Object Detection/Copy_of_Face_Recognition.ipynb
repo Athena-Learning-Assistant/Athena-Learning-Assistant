{
  "metadata": {
    "colab": {
      "provenance": []
    },
    "kernelspec": {
      "display_name": "Python 3",
      "name": "python3"
    },
    "language_info": {
      "name": "python"
    },
    "kaggle": {
      "accelerator": "none",
      "dataSources": [],
      "isInternetEnabled": false,
      "language": "python",
      "sourceType": "notebook",
      "isGpuEnabled": false
    }
  },
  "nbformat_minor": 0,
  "nbformat": 4,
  "cells": [
    {
      "cell_type": "code",
      "source": [
        "!pip install opencv-python\n",
        "!pip install face_recognition\n",
        "!pip install moviepy"
      ],
      "metadata": {
        "colab": {
          "base_uri": "https://localhost:8080/"
        },
        "id": "TXmOWmEGA-Du",
        "outputId": "65d100f3-00d8-47ef-a3c3-cbe51e08f521"
      },
      "execution_count": null,
      "outputs": [
        {
          "output_type": "stream",
          "name": "stdout",
          "text": "Requirement already satisfied: opencv-python in /usr/local/lib/python3.10/dist-packages (4.8.0.76)\n\nRequirement already satisfied: numpy>=1.21.2 in /usr/local/lib/python3.10/dist-packages (from opencv-python) (1.25.2)\n\nCollecting face_recognition\n\n  Downloading face_recognition-1.3.0-py2.py3-none-any.whl (15 kB)\n\nCollecting face-recognition-models>=0.3.0 (from face_recognition)\n\n  Downloading face_recognition_models-0.3.0.tar.gz (100.1 MB)\n\n\u001b[2K     \u001b[90m━━━━━━━━━━━━━━━━━━━━━━━━━━━━━━━━━━━━━━━━\u001b[0m \u001b[32m100.1/100.1 MB\u001b[0m \u001b[31m5.4 MB/s\u001b[0m eta \u001b[36m0:00:00\u001b[0m\n\n\u001b[?25h  Preparing metadata (setup.py) ... \u001b[?25l\u001b[?25hdone\n\nRequirement already satisfied: Click>=6.0 in /usr/local/lib/python3.10/dist-packages (from face_recognition) (8.1.7)\n\nRequirement already satisfied: dlib>=19.7 in /usr/local/lib/python3.10/dist-packages (from face_recognition) (19.24.4)\n\nRequirement already satisfied: numpy in /usr/local/lib/python3.10/dist-packages (from face_recognition) (1.25.2)\n\nRequirement already satisfied: Pillow in /usr/local/lib/python3.10/dist-packages (from face_recognition) (9.4.0)\n\nBuilding wheels for collected packages: face-recognition-models\n\n  Building wheel for face-recognition-models (setup.py) ... \u001b[?25l\u001b[?25hdone\n\n  Created wheel for face-recognition-models: filename=face_recognition_models-0.3.0-py2.py3-none-any.whl size=100566170 sha256=70da6dd4f87d488a6e49179d8a2fbef6bf12a2532c9d5e8aae52f039c46198c0\n\n  Stored in directory: /root/.cache/pip/wheels/7a/eb/cf/e9eced74122b679557f597bb7c8e4c739cfcac526db1fd523d\n\nSuccessfully built face-recognition-models\n\nInstalling collected packages: face-recognition-models, face_recognition\n\nSuccessfully installed face-recognition-models-0.3.0 face_recognition-1.3.0\n\nRequirement already satisfied: moviepy in /usr/local/lib/python3.10/dist-packages (1.0.3)\n\nRequirement already satisfied: decorator<5.0,>=4.0.2 in /usr/local/lib/python3.10/dist-packages (from moviepy) (4.4.2)\n\nRequirement already satisfied: tqdm<5.0,>=4.11.2 in /usr/local/lib/python3.10/dist-packages (from moviepy) (4.66.4)\n\nRequirement already satisfied: requests<3.0,>=2.8.1 in /usr/local/lib/python3.10/dist-packages (from moviepy) (2.31.0)\n\nRequirement already satisfied: proglog<=1.0.0 in /usr/local/lib/python3.10/dist-packages (from moviepy) (0.1.10)\n\nRequirement already satisfied: numpy>=1.17.3 in /usr/local/lib/python3.10/dist-packages (from moviepy) (1.25.2)\n\nRequirement already satisfied: imageio<3.0,>=2.5 in /usr/local/lib/python3.10/dist-packages (from moviepy) (2.31.6)\n\nRequirement already satisfied: imageio-ffmpeg>=0.2.0 in /usr/local/lib/python3.10/dist-packages (from moviepy) (0.4.9)\n\nRequirement already satisfied: pillow<10.1.0,>=8.3.2 in /usr/local/lib/python3.10/dist-packages (from imageio<3.0,>=2.5->moviepy) (9.4.0)\n\nRequirement already satisfied: setuptools in /usr/local/lib/python3.10/dist-packages (from imageio-ffmpeg>=0.2.0->moviepy) (67.7.2)\n\nRequirement already satisfied: charset-normalizer<4,>=2 in /usr/local/lib/python3.10/dist-packages (from requests<3.0,>=2.8.1->moviepy) (3.3.2)\n\nRequirement already satisfied: idna<4,>=2.5 in /usr/local/lib/python3.10/dist-packages (from requests<3.0,>=2.8.1->moviepy) (3.7)\n\nRequirement already satisfied: urllib3<3,>=1.21.1 in /usr/local/lib/python3.10/dist-packages (from requests<3.0,>=2.8.1->moviepy) (2.0.7)\n\nRequirement already satisfied: certifi>=2017.4.17 in /usr/local/lib/python3.10/dist-packages (from requests<3.0,>=2.8.1->moviepy) (2024.2.2)\n"
        }
      ]
    },
    {
      "cell_type": "code",
      "source": [
        "from google.colab import files\n",
        "\n",
        "uploaded = files.upload()"
      ],
      "metadata": {
        "colab": {
          "base_uri": "https://localhost:8080/",
          "height": 142
        },
        "id": "sENxpL81BFMg",
        "outputId": "bf397d4e-49b8-40f9-fcc9-cd4852631bbb"
      },
      "execution_count": null,
      "outputs": [
        {
          "output_type": "display_data",
          "data": {
            "text/plain": [
              "<IPython.core.display.HTML object>"
            ],
            "text/html": [
              "\n",
              "     <input type=\"file\" id=\"files-0fd3d947-ec14-4f53-9bd3-3bb604326836\" name=\"files[]\" multiple disabled\n",
              "        style=\"border:none\" />\n",
              "     <output id=\"result-0fd3d947-ec14-4f53-9bd3-3bb604326836\">\n",
              "      Upload widget is only available when the cell has been executed in the\n",
              "      current browser session. Please rerun this cell to enable.\n",
              "      </output>\n",
              "      <script>// Copyright 2017 Google LLC\n",
              "//\n",
              "// Licensed under the Apache License, Version 2.0 (the \"License\");\n",
              "// you may not use this file except in compliance with the License.\n",
              "// You may obtain a copy of the License at\n",
              "//\n",
              "//      http://www.apache.org/licenses/LICENSE-2.0\n",
              "//\n",
              "// Unless required by applicable law or agreed to in writing, software\n",
              "// distributed under the License is distributed on an \"AS IS\" BASIS,\n",
              "// WITHOUT WARRANTIES OR CONDITIONS OF ANY KIND, either express or implied.\n",
              "// See the License for the specific language governing permissions and\n",
              "// limitations under the License.\n",
              "\n",
              "/**\n",
              " * @fileoverview Helpers for google.colab Python module.\n",
              " */\n",
              "(function(scope) {\n",
              "function span(text, styleAttributes = {}) {\n",
              "  const element = document.createElement('span');\n",
              "  element.textContent = text;\n",
              "  for (const key of Object.keys(styleAttributes)) {\n",
              "    element.style[key] = styleAttributes[key];\n",
              "  }\n",
              "  return element;\n",
              "}\n",
              "\n",
              "// Max number of bytes which will be uploaded at a time.\n",
              "const MAX_PAYLOAD_SIZE = 100 * 1024;\n",
              "\n",
              "function _uploadFiles(inputId, outputId) {\n",
              "  const steps = uploadFilesStep(inputId, outputId);\n",
              "  const outputElement = document.getElementById(outputId);\n",
              "  // Cache steps on the outputElement to make it available for the next call\n",
              "  // to uploadFilesContinue from Python.\n",
              "  outputElement.steps = steps;\n",
              "\n",
              "  return _uploadFilesContinue(outputId);\n",
              "}\n",
              "\n",
              "// This is roughly an async generator (not supported in the browser yet),\n",
              "// where there are multiple asynchronous steps and the Python side is going\n",
              "// to poll for completion of each step.\n",
              "// This uses a Promise to block the python side on completion of each step,\n",
              "// then passes the result of the previous step as the input to the next step.\n",
              "function _uploadFilesContinue(outputId) {\n",
              "  const outputElement = document.getElementById(outputId);\n",
              "  const steps = outputElement.steps;\n",
              "\n",
              "  const next = steps.next(outputElement.lastPromiseValue);\n",
              "  return Promise.resolve(next.value.promise).then((value) => {\n",
              "    // Cache the last promise value to make it available to the next\n",
              "    // step of the generator.\n",
              "    outputElement.lastPromiseValue = value;\n",
              "    return next.value.response;\n",
              "  });\n",
              "}\n",
              "\n",
              "/**\n",
              " * Generator function which is called between each async step of the upload\n",
              " * process.\n",
              " * @param {string} inputId Element ID of the input file picker element.\n",
              " * @param {string} outputId Element ID of the output display.\n",
              " * @return {!Iterable<!Object>} Iterable of next steps.\n",
              " */\n",
              "function* uploadFilesStep(inputId, outputId) {\n",
              "  const inputElement = document.getElementById(inputId);\n",
              "  inputElement.disabled = false;\n",
              "\n",
              "  const outputElement = document.getElementById(outputId);\n",
              "  outputElement.innerHTML = '';\n",
              "\n",
              "  const pickedPromise = new Promise((resolve) => {\n",
              "    inputElement.addEventListener('change', (e) => {\n",
              "      resolve(e.target.files);\n",
              "    });\n",
              "  });\n",
              "\n",
              "  const cancel = document.createElement('button');\n",
              "  inputElement.parentElement.appendChild(cancel);\n",
              "  cancel.textContent = 'Cancel upload';\n",
              "  const cancelPromise = new Promise((resolve) => {\n",
              "    cancel.onclick = () => {\n",
              "      resolve(null);\n",
              "    };\n",
              "  });\n",
              "\n",
              "  // Wait for the user to pick the files.\n",
              "  const files = yield {\n",
              "    promise: Promise.race([pickedPromise, cancelPromise]),\n",
              "    response: {\n",
              "      action: 'starting',\n",
              "    }\n",
              "  };\n",
              "\n",
              "  cancel.remove();\n",
              "\n",
              "  // Disable the input element since further picks are not allowed.\n",
              "  inputElement.disabled = true;\n",
              "\n",
              "  if (!files) {\n",
              "    return {\n",
              "      response: {\n",
              "        action: 'complete',\n",
              "      }\n",
              "    };\n",
              "  }\n",
              "\n",
              "  for (const file of files) {\n",
              "    const li = document.createElement('li');\n",
              "    li.append(span(file.name, {fontWeight: 'bold'}));\n",
              "    li.append(span(\n",
              "        `(${file.type || 'n/a'}) - ${file.size} bytes, ` +\n",
              "        `last modified: ${\n",
              "            file.lastModifiedDate ? file.lastModifiedDate.toLocaleDateString() :\n",
              "                                    'n/a'} - `));\n",
              "    const percent = span('0% done');\n",
              "    li.appendChild(percent);\n",
              "\n",
              "    outputElement.appendChild(li);\n",
              "\n",
              "    const fileDataPromise = new Promise((resolve) => {\n",
              "      const reader = new FileReader();\n",
              "      reader.onload = (e) => {\n",
              "        resolve(e.target.result);\n",
              "      };\n",
              "      reader.readAsArrayBuffer(file);\n",
              "    });\n",
              "    // Wait for the data to be ready.\n",
              "    let fileData = yield {\n",
              "      promise: fileDataPromise,\n",
              "      response: {\n",
              "        action: 'continue',\n",
              "      }\n",
              "    };\n",
              "\n",
              "    // Use a chunked sending to avoid message size limits. See b/62115660.\n",
              "    let position = 0;\n",
              "    do {\n",
              "      const length = Math.min(fileData.byteLength - position, MAX_PAYLOAD_SIZE);\n",
              "      const chunk = new Uint8Array(fileData, position, length);\n",
              "      position += length;\n",
              "\n",
              "      const base64 = btoa(String.fromCharCode.apply(null, chunk));\n",
              "      yield {\n",
              "        response: {\n",
              "          action: 'append',\n",
              "          file: file.name,\n",
              "          data: base64,\n",
              "        },\n",
              "      };\n",
              "\n",
              "      let percentDone = fileData.byteLength === 0 ?\n",
              "          100 :\n",
              "          Math.round((position / fileData.byteLength) * 100);\n",
              "      percent.textContent = `${percentDone}% done`;\n",
              "\n",
              "    } while (position < fileData.byteLength);\n",
              "  }\n",
              "\n",
              "  // All done.\n",
              "  yield {\n",
              "    response: {\n",
              "      action: 'complete',\n",
              "    }\n",
              "  };\n",
              "}\n",
              "\n",
              "scope.google = scope.google || {};\n",
              "scope.google.colab = scope.google.colab || {};\n",
              "scope.google.colab._files = {\n",
              "  _uploadFiles,\n",
              "  _uploadFilesContinue,\n",
              "};\n",
              "})(self);\n",
              "</script> "
            ]
          },
          "metadata": {}
        },
        {
          "output_type": "stream",
          "name": "stdout",
          "text": "Saving class1.mp4 to class1.mp4\n\nSaving class2.mp4 to class2.mp4\n\nSaving class3.mp4 to class3.mp4\n"
        }
      ]
    },
    {
      "cell_type": "code",
      "source": [
        "import cv2\n",
        "import os\n",
        "\n",
        "def extract_frames_from_videos(video_paths, output_folder_prefix):\n",
        "    for idx, video_path in enumerate(video_paths):\n",
        "        output_folder = f\"{output_folder_prefix}_{idx}\"\n",
        "        if not os.path.exists(output_folder):\n",
        "            os.makedirs(output_folder)\n",
        "\n",
        "        video_capture = cv2.VideoCapture(video_path)\n",
        "        success, image = video_capture.read()\n",
        "        count = 0\n",
        "\n",
        "        while success:\n",
        "            cv2.imwrite(os.path.join(output_folder, f\"frame{count}.jpg\"), image)\n",
        "            success, image = video_capture.read()\n",
        "            count += 1\n",
        "\n",
        "# Daftar video yang telah diunggah\n",
        "video_files = ['class1.mp4', 'class2.mp4', 'class3.mp4']\n",
        "\n",
        "# Menentukan folder untuk menyimpan frame\n",
        "output_folder_prefix = 'video_frames'\n",
        "extract_frames_from_videos(video_files, output_folder_prefix)"
      ],
      "metadata": {
        "id": "0kHG9GQYBKAY"
      },
      "execution_count": null,
      "outputs": []
    },
    {
      "cell_type": "code",
      "source": [
        "!pip install dlib==19.18.0\n",
        "!pip install face_recognition"
      ],
      "metadata": {
        "colab": {
          "base_uri": "https://localhost:8080/"
        },
        "id": "dDJbKnrWKH2o",
        "outputId": "1e545248-c795-4be9-ed92-b2656ff5a637"
      },
      "execution_count": null,
      "outputs": [
        {
          "output_type": "stream",
          "name": "stdout",
          "text": "Collecting dlib==19.18.0\n\n  Downloading dlib-19.18.0.tar.gz (3.1 MB)\n\n\u001b[2K     \u001b[90m━━━━━━━━━━━━━━━━━━━━━━━━━━━━━━━━━━━━━━━━\u001b[0m \u001b[32m3.1/3.1 MB\u001b[0m \u001b[31m5.6 MB/s\u001b[0m eta \u001b[36m0:00:00\u001b[0m\n\n\u001b[?25h  Preparing metadata (setup.py) ... \u001b[?25l\u001b[?25hdone\n\nBuilding wheels for collected packages: dlib\n"
        }
      ]
    },
    {
      "cell_type": "code",
      "source": [
        "import face_recognition\n",
        "import matplotlib.pyplot as plt\n",
        "import os\n",
        "\n",
        "def detect_faces_in_multiple_folders(folders):\n",
        "    all_face_locations = []\n",
        "    for folder in folders:\n",
        "        face_locations = []\n",
        "        frame_files = [f for f in os.listdir(folder) if os.path.isfile(os.path.join(folder, f))]\n",
        "\n",
        "        for frame_file in frame_files:\n",
        "            frame_path = os.path.join(folder, frame_file)\n",
        "            image = face_recognition.load_image_file(frame_path)\n",
        "            face_locations_in_frame = face_recognition.face_locations(image, model=\"hog\")  # Gunakan HOG\n",
        "\n",
        "            for face_location in face_locations_in_frame:\n",
        "                face_locations.append((frame_path, face_location))\n",
        "\n",
        "        all_face_locations.append(face_locations)\n",
        "    return all_face_locations\n",
        "\n",
        "# Daftar folder hasil ekstraksi frame dari setiap video\n",
        "folders = [f\"video_frames_{i}\" for i in range(len(video_files))]\n",
        "\n",
        "# Mendeteksi wajah dalam semua folder\n",
        "all_face_locations = detect_faces_in_multiple_folders(folders)\n",
        "print(f\"Detected faces in {sum(len(locations) for locations in all_face_locations)} frames.\")\n"
      ],
      "metadata": {
        "id": "3_GIv2WwBKfP"
      },
      "execution_count": null,
      "outputs": []
    },
    {
      "cell_type": "code",
      "source": [
        "def show_faces(face_locations):\n",
        "    for frame_path, face_location in face_locations:\n",
        "        image = cv2.imread(frame_path)\n",
        "        top, right, bottom, left = face_location\n",
        "        cv2.rectangle(image, (left, top), (right, bottom), (0, 255, 0), 2)\n",
        "        plt.imshow(cv2.cvtColor(image, cv2.COLOR_BGR2RGB))\n",
        "        plt.show()\n",
        "\n",
        "# Daftar nama file video yang diunggah\n",
        "video_files = ['class1.mp4', 'class2.mp4', 'class3.mp4']\n",
        "\n",
        "# Daftar folder hasil ekstraksi frame dari setiap video\n",
        "folders = [f\"video_frames_{i}\" for i in range(len(video_files))]\n",
        "\n",
        "# Mendeteksi wajah dalam semua folder\n",
        "all_face_locations = detect_faces_in_multiple_folders(folders)\n",
        "print(f\"Detected faces in {sum(len(locations) for locations in all_face_locations)} frames.\")\n",
        "\n",
        "# Gabungkan semua deteksi wajah menjadi satu daftar\n",
        "combined_face_locations = [item for sublist in all_face_locations for item in sublist]\n",
        "\n",
        "# Tampilkan deteksi wajah\n",
        "show_faces(combined_face_locations)"
      ],
      "metadata": {
        "id": "absx-cyvBLZZ"
      },
      "execution_count": null,
      "outputs": []
    },
    {
      "cell_type": "code",
      "source": [
        "import os\n",
        "\n",
        "def save_extracted_faces(face_locations, output_folder):\n",
        "    if not os.path.exists(output_folder):\n",
        "        os.makedirs(output_folder)\n",
        "\n",
        "    for idx, (frame_path, face_location) in enumerate(face_locations):\n",
        "        image = cv2.imread(frame_path)\n",
        "        top, right, bottom, left = face_location\n",
        "        face_image = image[top:bottom, left:right]\n",
        "        face_filename = os.path.join(output_folder, f\"face_{idx}.jpg\")\n",
        "        cv2.imwrite(face_filename, face_image)\n",
        "\n",
        "# Folder untuk menyimpan wajah yang diekstrak\n",
        "output_faces_folder = 'extracted_faces'\n",
        "\n",
        "# Simpan wajah yang diekstrak\n",
        "save_extracted_faces(combined_face_locations, output_faces_folder)\n",
        "print(f\"Faces saved to {output_faces_folder}\")\n"
      ],
      "metadata": {
        "id": "ZS6I55LZBNGX"
      },
      "execution_count": null,
      "outputs": []
    },
    {
      "cell_type": "code",
      "source": [
        "import shutil\n",
        "\n",
        "# Membuat file zip dari folder extracted_faces\n",
        "shutil.make_archive(output_faces_folder, 'zip', output_faces_folder)\n",
        "\n",
        "# Mengunduh file zip\n",
        "from google.colab import files\n",
        "files.download(f'{output_faces_folder}.zip')\n"
      ],
      "metadata": {
        "id": "otXuW2ypsKxr"
      },
      "execution_count": null,
      "outputs": []
    },
    {
      "cell_type": "code",
      "source": [
        "import numpy as np\n",
        "from sklearn.model_selection import train_test_split\n",
        "import os\n",
        "import cv2  # Import modul cv2\n",
        "\n",
        "def load_data(folder_path, target_size=(100, 100)):\n",
        "    images = []\n",
        "    labels = []\n",
        "    for filename in os.listdir(folder_path):\n",
        "        img_path = os.path.join(folder_path, filename)\n",
        "        label = filename.split(\"_\")[0]  # Ambil label dari nama file (misal: 'class1.jpg' -> 'class1')\n",
        "        image = cv2.imread(img_path)\n",
        "        resized_image = cv2.resize(image, target_size)  # Mengubah ukuran gambar\n",
        "        images.append(resized_image)\n",
        "        labels.append(label)\n",
        "    return np.array(images), np.array(labels)\n",
        "\n",
        "# Folder tempat menyimpan wajah yang diekstrak\n",
        "extracted_faces_folder = 'extracted_faces'\n",
        "\n",
        "# Muat data untuk pelatihan\n",
        "images, labels = load_data(extracted_faces_folder)\n",
        "\n",
        "# Bagi data menjadi data latih dan data uji\n",
        "train_images, test_images, train_labels, test_labels = train_test_split(images, labels, test_size=0.2, random_state=42)\n"
      ],
      "metadata": {
        "id": "6mzxI4pFsMTL"
      },
      "execution_count": null,
      "outputs": []
    },
    {
      "cell_type": "code",
      "source": [
        "import tensorflow as tf\n",
        "from tensorflow.keras import layers, models\n",
        "from sklearn.model_selection import train_test_split\n",
        "\n",
        "# Fungsi untuk membuat model\n",
        "def create_model(input_shape, num_classes):\n",
        "    model = models.Sequential()\n",
        "    model.add(layers.Conv2D(32, (3, 3), activation='relu', input_shape=input_shape))\n",
        "    model.add(layers.MaxPooling2D((2, 2)))\n",
        "    model.add(layers.Conv2D(64, (3, 3), activation='relu'))\n",
        "    model.add(layers.MaxPooling2D((2, 2)))\n",
        "    model.add(layers.Conv2D(64, (3, 3), activation='relu'))\n",
        "    model.add(layers.Flatten())\n",
        "    model.add(layers.Dense(64, activation='relu'))\n",
        "    model.add(layers.Dense(num_classes, activation='softmax'))\n",
        "    return model\n",
        "\n",
        "# Muat data untuk pelatihan\n",
        "images, labels = load_data(extracted_faces_folder)\n",
        "\n",
        "# Bagi data menjadi data latih dan data uji\n",
        "train_images, test_images, train_labels, test_labels = train_test_split(images, labels, test_size=0.2, random_state=42)\n",
        "\n",
        "# Ukuran gambar wajah (misal: 100x100 piksel) dan jumlah kelas\n",
        "input_shape = (100, 100, 3)\n",
        "num_classes = len(set(labels))\n",
        "\n",
        "# Buat model\n",
        "model = create_model(input_shape, num_classes)"
      ],
      "metadata": {
        "id": "rL236Vviu5lM"
      },
      "execution_count": null,
      "outputs": []
    },
    {
      "cell_type": "code",
      "source": [
        "!pip install --upgrade tensorflow"
      ],
      "metadata": {
        "id": "Q884MfOdvZD7"
      },
      "execution_count": null,
      "outputs": []
    },
    {
      "cell_type": "code",
      "source": [
        "from sklearn.preprocessing import LabelEncoder\n",
        "\n",
        "# Buat objek LabelEncoder\n",
        "label_encoder = LabelEncoder()\n",
        "\n",
        "# Konversi label menjadi tipe data numerik\n",
        "train_labels_encoded = label_encoder.fit_transform(train_labels)\n",
        "test_labels_encoded = label_encoder.transform(test_labels)\n",
        "\n",
        "# Compile dan latih model\n",
        "model.compile(optimizer='adam',\n",
        "              loss='sparse_categorical_crossentropy',\n",
        "              metrics=['accuracy'])\n",
        "\n",
        "model.fit(train_images, train_labels_encoded, epochs=10, validation_data=(test_images, test_labels_encoded))"
      ],
      "metadata": {
        "id": "CqARhO07vMBh"
      },
      "execution_count": null,
      "outputs": []
    },
    {
      "cell_type": "code",
      "source": [
        "loss, accuracy = model.evaluate(test_images, test_labels_encoded)\n",
        "print(\"Loss on test data:\", loss)\n",
        "print(\"Accuracy on test data:\", accuracy)\n"
      ],
      "metadata": {
        "id": "W0Qj1jd_yqHz"
      },
      "execution_count": null,
      "outputs": []
    },
    {
      "cell_type": "code",
      "source": [
        "import cv2\n",
        "import numpy as np\n",
        "\n",
        "# Paths to the uploaded video files\n",
        "video_paths = ['class1.mp4', 'class2.mp4', 'class3.mp4']  # Ganti dengan nama file video Anda\n",
        "\n",
        "# Fungsi untuk memproses gambar\n",
        "def preprocess_image(image):\n",
        "    # Normalisasi gambar\n",
        "    image = image / 255.0\n",
        "    return image\n",
        "\n",
        "# Loop over each video\n",
        "for video_path in video_paths:\n",
        "    # Buka video\n",
        "    video = cv2.VideoCapture(video_path)\n",
        "\n",
        "    # Periksa apakah video berhasil dibuka\n",
        "    if not video.isOpened():\n",
        "        print(f\"Gagal membuka video {video_path}. Periksa kembali jalur file.\")\n",
        "    else:\n",
        "        print(f\"Video {video_path} berhasil dibuka.\")\n",
        "\n",
        "        # Ambil FPS (Frame Per Second) dari video\n",
        "        fps = int(video.get(cv2.CAP_PROP_FPS))\n",
        "\n",
        "        # Loop over frames in the video\n",
        "        while True:\n",
        "            # Ekstrak frame\n",
        "            ret, frame = video.read()\n",
        "\n",
        "            if not ret:\n",
        "                print(f\"Video {video_path} selesai diproses.\")\n",
        "                break\n",
        "\n",
        "            # Resize frame to match input shape of the model\n",
        "            resized_frame = cv2.resize(frame, (100, 100))  # Sesuaikan dengan input model\n",
        "\n",
        "            # Preprocess frame (e.g., normalization)\n",
        "            preprocessed_frame = preprocess_image(resized_frame)\n",
        "\n",
        "            # Convert frame to array and add batch dimension\n",
        "            input_data = np.expand_dims(preprocessed_frame, axis=0)\n",
        "\n",
        "            # Use model for prediction\n",
        "            predictions = model.predict(input_data)\n",
        "            print(f\"Predictions for frame in {video_path}:\", predictions)\n",
        "\n",
        "            #break\n",
        "        video.release()\n"
      ],
      "metadata": {
        "colab": {
          "background_save": true
        },
        "id": "58iaOESLysAq"
      },
      "execution_count": null,
      "outputs": []
    },
    {
      "cell_type": "code",
      "source": [
        "import matplotlib.pyplot as plt\n",
        "\n",
        "# Prediksi model\n",
        "predictions = [0.2, 0.5, 0.3]  # Contoh hasil prediksi, ganti dengan hasil prediksi sesuai kebutuhan\n",
        "\n",
        "# Labels kelas\n",
        "class_labels = ['Class 1', 'Class 2', 'Class 3']  # Ganti dengan label kelas Anda\n",
        "\n",
        "# Visualisasi hasil prediksi\n",
        "plt.figure(figsize=(8, 6))\n",
        "plt.bar(class_labels, predictions, color='blue')\n",
        "plt.xlabel('Classes')\n",
        "plt.ylabel('Predicted Probabilities')\n",
        "plt.title('Predictions')\n",
        "plt.ylim(0, 1)  # Rentang sumbu y dari 0 hingga 1\n",
        "plt.grid(axis='y', linestyle='--', alpha=0.7)\n",
        "plt.show()\n"
      ],
      "metadata": {
        "id": "mAggDWoG_pei"
      },
      "execution_count": null,
      "outputs": []
    },
    {
      "cell_type": "code",
      "source": [
        "import pandas as pd\n",
        "\n",
        "# Contoh hasil prediksi dan label kelas\n",
        "predictions = [[0.2, 0.5, 0.3], [0.8, 0.1, 0.1], [0.4, 0.4, 0.2]]\n",
        "class_labels = ['Class 1', 'Class 2', 'Class 3']  # Ganti dengan label kelas Anda\n",
        "\n",
        "# Membuat dataframe dari hasil prediksi\n",
        "df_predictions = pd.DataFrame(predictions, columns=class_labels)\n",
        "\n",
        "# Menyimpan dataframe ke dalam file CSV\n",
        "csv_file_path = 'predictions.csv'  # Ganti dengan jalur file\n",
        "df_predictions.to_csv(csv_file_path, index=False)\n",
        "\n",
        "print(\"Hasil prediksi telah disimpan dalam file CSV:\", csv_file_path)\n"
      ],
      "metadata": {
        "id": "Q58GNLfn_r9Z"
      },
      "execution_count": null,
      "outputs": []
    },
    {
      "cell_type": "code",
      "source": [
        "from google.colab import files\n",
        "\n",
        "files.download(csv_file_path)"
      ],
      "metadata": {
        "id": "J8hSotYy_5OC"
      },
      "execution_count": null,
      "outputs": []
    }
  ]
}
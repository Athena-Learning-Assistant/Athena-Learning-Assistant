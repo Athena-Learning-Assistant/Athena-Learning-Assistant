{
  "cells": [
    {
      "cell_type": "code",
      "execution_count": null,
      "metadata": {
        "id": "TXmOWmEGA-Du"
      },
      "outputs": [],
      "source": [
        "\n",
        "!pip install opencv-python\n",
        "!pip install face_recognition\n",
        "!pip install moviepy\n",
        "!pip install dlib==19.18.0\n",
        "!pip install face_recognition"
      ]
    },
    {
      "cell_type": "code",
      "execution_count": null,
      "metadata": {
        "id": "sENxpL81BFMg"
      },
      "outputs": [],
      "source": [
        "\n",
        "from google.colab import files\n",
        "uploaded = files.upload()"
      ]
    },
    {
      "cell_type": "code",
      "execution_count": null,
      "metadata": {
        "id": "0kHG9GQYBKAY"
      },
      "outputs": [],
      "source": [
        "\n",
        "\n",
        "import cv2\n",
        "import os\n",
        "\n",
        "def extract_frames_from_videos(video_paths, output_folder_prefix):\n",
        "    for idx, video_path in enumerate(video_paths):\n",
        "        output_folder = f\"{output_folder_prefix}_{idx}\"\n",
        "        if not os.path.exists(output_folder):\n",
        "            os.makedirs(output_folder)\n",
        "\n",
        "        video_capture = cv2.VideoCapture(video_path)\n",
        "        success, image = video_capture.read()\n",
        "        count = 0\n",
        "\n",
        "        while success:\n",
        "            cv2.imwrite(os.path.join(output_folder, f\"{count}.jpg\"), image)\n",
        "            success, image = video_capture.read()\n",
        "            count += 1\n",
        "\n",
        "# Daftar video yang telah diunggah\n",
        "video_files = ['class1.mp4', 'class2.mp4', 'class3.mp4']\n",
        "\n",
        "# Menentukan folder untuk menyimpan frame\n",
        "output_folder_prefix = 'nama siswa'\n",
        "extract_frames_from_videos(video_files, output_folder_prefix)"
      ]
    },
    {
      "cell_type": "code",
      "execution_count": null,
      "metadata": {
        "id": "dDJbKnrWKH2o"
      },
      "outputs": [],
      "source": []
    },
    {
      "cell_type": "code",
      "execution_count": null,
      "metadata": {
        "id": "3_GIv2WwBKfP"
      },
      "outputs": [],
      "source": [
        "\n",
        "\n",
        "import face_recognition\n",
        "import matplotlib.pyplot as plt\n",
        "import os\n",
        "\n",
        "def detect_faces_in_multiple_folders(folders):\n",
        "    all_face_locations = []\n",
        "    for folder in folders:\n",
        "        face_locations = []\n",
        "        frame_files = [f for f in os.listdir(folder) if os.path.isfile(os.path.join(folder, f))]\n",
        "\n",
        "        for frame_file in frame_files:\n",
        "            frame_path = os.path.join(folder, frame_file)\n",
        "            image = face_recognition.load_image_file(frame_path)\n",
        "            face_locations_in_frame = face_recognition.face_locations(image, model=\"hog\")  # Gunakan HOG\n",
        "\n",
        "            for face_location in face_locations_in_frame:\n",
        "                face_locations.append((frame_path, face_location))\n",
        "\n",
        "        all_face_locations.append(face_locations)\n",
        "    return all_face_locations\n",
        "\n",
        "# Daftar folder hasil ekstraksi frame dari setiap video\n",
        "folders = [f\"video_frames_{i}\" for i in range(len(video_files))]\n",
        "\n",
        "# Mendeteksi wajah dalam semua folder\n",
        "all_face_locations = detect_faces_in_multiple_folders(folders)\n",
        "print(f\"Detected faces in {sum(len(locations) for locations in all_face_locations)} frames.\")\n"
      ]
    },
    {
      "cell_type": "code",
      "execution_count": null,
      "metadata": {
        "id": "absx-cyvBLZZ"
      },
      "outputs": [],
      "source": [
        "\n",
        "\n",
        "def show_faces(face_locations):\n",
        "    for frame_path, face_location in face_locations:\n",
        "        image = cv2.imread(frame_path)\n",
        "        top, right, bottom, left = face_location\n",
        "        cv2.rectangle(image, (left, top), (right, bottom), (0, 255, 0), 2)\n",
        "        plt.imshow(cv2.cvtColor(image, cv2.COLOR_BGR2RGB))\n",
        "        plt.show()\n",
        "\n",
        "# Daftar nama file video yang diunggah\n",
        "video_files = ['class1.mp4', 'class2.mp4', 'class3.mp4']\n",
        "\n",
        "# Daftar folder hasil ekstraksi frame dari setiap video\n",
        "folders = [f\"video_frames_{i}\" for i in range(len(video_files))]\n",
        "\n",
        "# Mendeteksi wajah dalam semua folder\n",
        "all_face_locations = detect_faces_in_multiple_folders(folders)\n",
        "print(f\"Detected faces in {sum(len(locations) for locations in all_face_locations)} frames.\")\n",
        "\n",
        "# Gabungkan semua deteksi wajah menjadi satu daftar\n",
        "combined_face_locations = [item for sublist in all_face_locations for item in sublist]\n",
        "\n",
        "# Tampilkan deteksi wajah\n",
        "show_faces(combined_face_locations)"
      ]
    },
    {
      "cell_type": "code",
      "execution_count": null,
      "metadata": {
        "colab": {
          "base_uri": "https://localhost:8080/"
        },
        "id": "ZS6I55LZBNGX",
        "outputId": "513c4108-d710-4857-820c-f24ddf5b8918"
      },
      "outputs": [
        {
          "output_type": "stream",
          "name": "stdout",
          "text": [
            "Faces saved to extracted_faces\n"
          ]
        }
      ],
      "source": [
        "\n",
        "import os\n",
        "\n",
        "def save_extracted_faces(face_locations, output_folder):\n",
        "    if not os.path.exists(output_folder):\n",
        "        os.makedirs(output_folder)\n",
        "\n",
        "    for idx, (frame_path, face_location) in enumerate(face_locations):\n",
        "        image = cv2.imread(frame_path)\n",
        "        top, right, bottom, left = face_location\n",
        "        face_image = image[top:bottom, left:right]\n",
        "        face_filename = os.path.join(output_folder, f\"face_{idx}.jpg\")\n",
        "        cv2.imwrite(face_filename, face_image)\n",
        "\n",
        "# Folder untuk menyimpan wajah yang diekstrak\n",
        "output_faces_folder = 'extracted_faces'\n",
        "\n",
        "# Simpan wajah yang diekstrak\n",
        "save_extracted_faces(combined_face_locations, output_faces_folder)\n",
        "print(f\"Faces saved to {output_faces_folder}\")\n"
      ]
    },
    {
      "cell_type": "code",
      "execution_count": null,
      "metadata": {
        "colab": {
          "base_uri": "https://localhost:8080/",
          "height": 34
        },
        "id": "otXuW2ypsKxr",
        "outputId": "539347f6-7b45-4d71-fae6-880998cfcaee"
      },
      "outputs": [
        {
          "output_type": "display_data",
          "data": {
            "text/plain": [
              "<IPython.core.display.Javascript object>"
            ],
            "application/javascript": [
              "\n",
              "    async function download(id, filename, size) {\n",
              "      if (!google.colab.kernel.accessAllowed) {\n",
              "        return;\n",
              "      }\n",
              "      const div = document.createElement('div');\n",
              "      const label = document.createElement('label');\n",
              "      label.textContent = `Downloading \"${filename}\": `;\n",
              "      div.appendChild(label);\n",
              "      const progress = document.createElement('progress');\n",
              "      progress.max = size;\n",
              "      div.appendChild(progress);\n",
              "      document.body.appendChild(div);\n",
              "\n",
              "      const buffers = [];\n",
              "      let downloaded = 0;\n",
              "\n",
              "      const channel = await google.colab.kernel.comms.open(id);\n",
              "      // Send a message to notify the kernel that we're ready.\n",
              "      channel.send({})\n",
              "\n",
              "      for await (const message of channel.messages) {\n",
              "        // Send a message to notify the kernel that we're ready.\n",
              "        channel.send({})\n",
              "        if (message.buffers) {\n",
              "          for (const buffer of message.buffers) {\n",
              "            buffers.push(buffer);\n",
              "            downloaded += buffer.byteLength;\n",
              "            progress.value = downloaded;\n",
              "          }\n",
              "        }\n",
              "      }\n",
              "      const blob = new Blob(buffers, {type: 'application/binary'});\n",
              "      const a = document.createElement('a');\n",
              "      a.href = window.URL.createObjectURL(blob);\n",
              "      a.download = filename;\n",
              "      div.appendChild(a);\n",
              "      a.click();\n",
              "      div.remove();\n",
              "    }\n",
              "  "
            ]
          },
          "metadata": {}
        },
        {
          "output_type": "display_data",
          "data": {
            "text/plain": [
              "<IPython.core.display.Javascript object>"
            ],
            "application/javascript": [
              "download(\"download_bb67b209-bd28-401a-8559-df085ff3c351\", \"extracted_faces.zip\", 7942647)"
            ]
          },
          "metadata": {}
        }
      ],
      "source": [
        "import shutil\n",
        "\n",
        "# Membuat file zip dari folder extracted_faces\n",
        "shutil.make_archive(output_faces_folder, 'zip', output_faces_folder)\n",
        "\n",
        "# Mengunduh file zip\n",
        "from google.colab import files\n",
        "files.download(f'{output_faces_folder}.zip')\n"
      ]
    },
    {
      "cell_type": "code",
      "execution_count": null,
      "metadata": {
        "id": "6mzxI4pFsMTL"
      },
      "outputs": [],
      "source": [
        "import numpy as np\n",
        "from sklearn.model_selection import train_test_split\n",
        "import os\n",
        "import cv2  # Import modul cv2\n",
        "\n",
        "def load_data(folder_path, target_size=(100, 100)):\n",
        "    images = []\n",
        "    labels = []\n",
        "    for filename in os.listdir(folder_path):\n",
        "        img_path = os.path.join(folder_path, filename)\n",
        "        label = filename.split(\"_\")[0]  # Ambil label dari nama file (misal: 'class1.jpg' -> 'class1')\n",
        "        image = cv2.imread(img_path)\n",
        "        resized_image = cv2.resize(image, target_size)  # Mengubah ukuran gambar\n",
        "        images.append(resized_image)\n",
        "        labels.append(label)\n",
        "    return np.array(images), np.array(labels)\n",
        "\n",
        "# Folder tempat menyimpan wajah yang diekstrak\n",
        "extracted_faces_folder = 'extracted_faces'\n",
        "\n",
        "# Muat data untuk pelatihan\n",
        "images, labels = load_data(extracted_faces_folder)\n",
        "\n",
        "# Bagi data menjadi data latih dan data uji\n",
        "train_images, test_images, train_labels, test_labels = train_test_split(images, labels, test_size=0.2, random_state=42)\n"
      ]
    },
    {
      "cell_type": "code",
      "execution_count": null,
      "metadata": {
        "id": "rL236Vviu5lM"
      },
      "outputs": [],
      "source": [
        "import tensorflow as tf\n",
        "from tensorflow.keras import layers, models\n",
        "from sklearn.model_selection import train_test_split\n",
        "\n",
        "# Fungsi untuk membuat model\n",
        "def create_model(input_shape, num_classes):\n",
        "    model = models.Sequential()\n",
        "    model.add(layers.Conv2D(32, (3, 3), activation='relu', input_shape=input_shape))\n",
        "    model.add(layers.MaxPooling2D((2, 2)))\n",
        "    model.add(layers.Conv2D(64, (3, 3), activation='relu'))\n",
        "    model.add(layers.MaxPooling2D((2, 2)))\n",
        "    model.add(layers.Conv2D(64, (3, 3), activation='relu'))\n",
        "    model.add(layers.Flatten())\n",
        "    model.add(layers.Dense(64, activation='relu'))\n",
        "    model.add(layers.Dense(num_classes, activation='softmax'))\n",
        "    return model\n",
        "\n",
        "# Muat data untuk pelatihan\n",
        "images, labels = load_data(extracted_faces_folder)\n",
        "\n",
        "# Bagi data menjadi data latih dan data uji\n",
        "train_images, test_images, train_labels, test_labels = train_test_split(images, labels, test_size=0.2, random_state=42)\n",
        "\n",
        "# Ukuran gambar wajah (misal: 100x100 piksel) dan jumlah kelas\n",
        "input_shape = (100, 100, 3)\n",
        "num_classes = len(set(labels))\n",
        "\n",
        "# Buat model\n",
        "model = create_model(input_shape, num_classes)"
      ]
    },
    {
      "cell_type": "code",
      "execution_count": null,
      "metadata": {
        "id": "Q884MfOdvZD7"
      },
      "outputs": [],
      "source": [
        "!pip install --upgrade tensorflow"
      ]
    },
    {
      "cell_type": "code",
      "execution_count": null,
      "metadata": {
        "id": "CqARhO07vMBh"
      },
      "outputs": [],
      "source": [
        "from sklearn.preprocessing import LabelEncoder\n",
        "\n",
        "# Buat objek LabelEncoder\n",
        "label_encoder = LabelEncoder()\n",
        "\n",
        "# Konversi label menjadi tipe data numerik\n",
        "train_labels_encoded = label_encoder.fit_transform(train_labels)\n",
        "test_labels_encoded = label_encoder.transform(test_labels)\n",
        "\n",
        "# Compile dan latih model\n",
        "model.compile(optimizer='adam',\n",
        "              loss='sparse_categorical_crossentropy',\n",
        "              metrics=['accuracy'])\n",
        "\n",
        "model.fit(train_images, train_labels_encoded, epochs=10, validation_data=(test_images, test_labels_encoded))"
      ]
    },
    {
      "cell_type": "code",
      "execution_count": null,
      "metadata": {
        "id": "W0Qj1jd_yqHz"
      },
      "outputs": [],
      "source": [
        "loss, accuracy = model.evaluate(test_images, test_labels_encoded)\n",
        "print(\"Loss on test data:\", loss)\n",
        "print(\"Accuracy on test data:\", accuracy)\n"
      ]
    },
    {
      "cell_type": "code",
      "execution_count": null,
      "metadata": {
        "id": "58iaOESLysAq"
      },
      "outputs": [],
      "source": [
        "import cv2\n",
        "import numpy as np\n",
        "\n",
        "# Paths to the uploaded video files\n",
        "video_paths = ['class1.mp4', 'class2.mp4', 'class3.mp4']  # Ganti dengan nama file video Anda\n",
        "\n",
        "# Fungsi untuk memproses gambar\n",
        "def preprocess_image(image):\n",
        "    # Normalisasi gambar\n",
        "    image = image / 255.0\n",
        "    return image\n",
        "\n",
        "# Loop over each video\n",
        "for video_path in video_paths:\n",
        "    # Buka video\n",
        "    video = cv2.VideoCapture(video_path)\n",
        "\n",
        "    # Periksa apakah video berhasil dibuka\n",
        "    if not video.isOpened():\n",
        "        print(f\"Gagal membuka video {video_path}. Periksa kembali jalur file.\")\n",
        "    else:\n",
        "        print(f\"Video {video_path} berhasil dibuka.\")\n",
        "\n",
        "        # Ambil FPS (Frame Per Second) dari video\n",
        "        fps = int(video.get(cv2.CAP_PROP_FPS))\n",
        "\n",
        "        # Loop over frames in the video\n",
        "        while True:\n",
        "            # Ekstrak frame\n",
        "            ret, frame = video.read()\n",
        "\n",
        "            if not ret:\n",
        "                print(f\"Video {video_path} selesai diproses.\")\n",
        "                break\n",
        "\n",
        "            # Resize frame to match input shape of the model\n",
        "            resized_frame = cv2.resize(frame, (100, 100))  # Sesuaikan dengan input model\n",
        "\n",
        "            # Preprocess frame (e.g., normalization)\n",
        "            preprocessed_frame = preprocess_image(resized_frame)\n",
        "\n",
        "            # Convert frame to array and add batch dimension\n",
        "            input_data = np.expand_dims(preprocessed_frame, axis=0)\n",
        "\n",
        "            # Use model for prediction\n",
        "            predictions = model.predict(input_data)\n",
        "            print(f\"Predictions for frame in {video_path}:\", predictions)\n",
        "\n",
        "            # Jika Anda ingin memberhentikan pemrosesan setelah beberapa frame, tambahkan kondisi di sini\n",
        "            # Misalnya, jika Anda ingin menghentikan pemrosesan setelah 100 frame, Anda bisa tambahkan:\n",
        "            # if frame_count >= 100:\n",
        "            #     break\n",
        "\n",
        "        # Jangan lupa untuk melepaskan objek video\n",
        "        video.release()\n"
      ]
    },
    {
      "cell_type": "code",
      "source": [
        "import matplotlib.pyplot as plt\n",
        "\n",
        "# Prediksi model\n",
        "predictions = [0.2, 0.5, 0.3]  # Contoh hasil prediksi, ganti dengan hasil prediksi sesuai kebutuhan\n",
        "\n",
        "# Labels kelas\n",
        "class_labels = ['Class 1', 'Class 2', 'Class 3']  # Ganti dengan label kelas Anda\n",
        "\n",
        "# Visualisasi hasil prediksi\n",
        "plt.figure(figsize=(8, 6))\n",
        "plt.bar(class_labels, predictions, color='blue')\n",
        "plt.xlabel('Classes')\n",
        "plt.ylabel('Predicted Probabilities')\n",
        "plt.title('Predictions')\n",
        "plt.ylim(0, 1)  # Rentang sumbu y dari 0 hingga 1\n",
        "plt.grid(axis='y', linestyle='--', alpha=0.7)\n",
        "plt.show()\n"
      ],
      "metadata": {
        "id": "mAggDWoG_pei"
      },
      "execution_count": null,
      "outputs": []
    },
    {
      "cell_type": "code",
      "source": [
        "import pandas as pd\n",
        "\n",
        "# Contoh hasil prediksi dan label kelas\n",
        "predictions = [[0.2, 0.5, 0.3], [0.8, 0.1, 0.1], [0.4, 0.4, 0.2]]  # Contoh hasil prediksi, ganti dengan hasil prediksi sesuai kebutuhan\n",
        "class_labels = ['Class 1', 'Class 2', 'Class 3']  # Ganti dengan label kelas Anda\n",
        "\n",
        "# Membuat dataframe dari hasil prediksi\n",
        "df_predictions = pd.DataFrame(predictions, columns=class_labels)\n",
        "\n",
        "# Menyimpan dataframe ke dalam file CSV\n",
        "csv_file_path = 'predictions.csv'  # Ganti dengan jalur file yang Anda inginkan\n",
        "df_predictions.to_csv(csv_file_path, index=False)\n",
        "\n",
        "print(\"Hasil prediksi telah disimpan dalam file CSV:\", csv_file_path)\n"
      ],
      "metadata": {
        "id": "Q58GNLfn_r9Z"
      },
      "execution_count": null,
      "outputs": []
    },
    {
      "cell_type": "code",
      "source": [
        "from google.colab import files\n",
        "\n",
        "files.download(csv_file_path)"
      ],
      "metadata": {
        "colab": {
          "base_uri": "https://localhost:8080/",
          "height": 89
        },
        "id": "J8hSotYy_5OC",
        "outputId": "d0539d8d-7c60-40b0-94e0-356764bb2ef7"
      },
      "execution_count": null,
      "outputs": [
        {
          "data": {
            "application/javascript": [
              "\n",
              "    async function download(id, filename, size) {\n",
              "      if (!google.colab.kernel.accessAllowed) {\n",
              "        return;\n",
              "      }\n",
              "      const div = document.createElement('div');\n",
              "      const label = document.createElement('label');\n",
              "      label.textContent = `Downloading \"${filename}\": `;\n",
              "      div.appendChild(label);\n",
              "      const progress = document.createElement('progress');\n",
              "      progress.max = size;\n",
              "      div.appendChild(progress);\n",
              "      document.body.appendChild(div);\n",
              "\n",
              "      const buffers = [];\n",
              "      let downloaded = 0;\n",
              "\n",
              "      const channel = await google.colab.kernel.comms.open(id);\n",
              "      // Send a message to notify the kernel that we're ready.\n",
              "      channel.send({})\n",
              "\n",
              "      for await (const message of channel.messages) {\n",
              "        // Send a message to notify the kernel that we're ready.\n",
              "        channel.send({})\n",
              "        if (message.buffers) {\n",
              "          for (const buffer of message.buffers) {\n",
              "            buffers.push(buffer);\n",
              "            downloaded += buffer.byteLength;\n",
              "            progress.value = downloaded;\n",
              "          }\n",
              "        }\n",
              "      }\n",
              "      const blob = new Blob(buffers, {type: 'application/binary'});\n",
              "      const a = document.createElement('a');\n",
              "      a.href = window.URL.createObjectURL(blob);\n",
              "      a.download = filename;\n",
              "      div.appendChild(a);\n",
              "      a.click();\n",
              "      div.remove();\n",
              "    }\n",
              "  "
            ],
            "text/plain": [
              "<IPython.core.display.Javascript object>"
            ]
          },
          "metadata": {},
          "output_type": "display_data"
        },
        {
          "data": {
            "application/javascript": [
              "download(\"download_1bc640d0-3158-4127-b7eb-117bec75881f\", \"predictions.csv\", 60)"
            ],
            "text/plain": [
              "<IPython.core.display.Javascript object>"
            ]
          },
          "metadata": {},
          "output_type": "display_data"
        }
      ]
    }
  ],
  "metadata": {
    "colab": {
      "provenance": []
    },
    "kernelspec": {
      "display_name": "Python 3",
      "name": "python3"
    },
    "language_info": {
      "name": "python"
    }
  },
  "nbformat": 4,
  "nbformat_minor": 0
}